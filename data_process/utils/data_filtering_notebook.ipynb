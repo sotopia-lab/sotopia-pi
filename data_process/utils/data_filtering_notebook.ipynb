{
 "cells": [
  {
   "cell_type": "markdown",
   "metadata": {},
   "source": [
    "# Data Filtering with GPT-4 Ratings"
   ]
  },
  {
   "cell_type": "markdown",
   "metadata": {},
   "source": [
    "## Imports and helper functions"
   ]
  },
  {
   "cell_type": "code",
   "execution_count": 2,
   "metadata": {},
   "outputs": [],
   "source": [
    "import os\n",
    "# TODO: Fill in REDIS OM URL in the form of `redis://:password@host:port`\n",
    "os.environ[\n",
    "    \"REDIS_OM_URL\"\n",
    "] = \"redis://:password@server_name:port_num\"\n",
    "\n",
    "import json\n",
    "import random\n",
    "from collections import Counter\n",
    "from sotopia.database.logs import EpisodeLog\n",
    "from collections import Counter \n",
    "import matplotlib.pyplot as plt\n",
    "import numpy as np\n",
    "from prompt_reverse_engineering import reverse_episode_log\n"
   ]
  },
  {
   "cell_type": "code",
   "execution_count": 20,
   "metadata": {},
   "outputs": [],
   "source": [
    "def get_episodes_by_env_dict(\n",
    "    tags: list, \n",
    "    scenarios: set,\n",
    ") -> dict[str, list[EpisodeLog]]:\n",
    "     # Load all episodes from tags\n",
    "    eps_by_tag = {}\n",
    "    for tag in tags:\n",
    "        eps = EpisodeLog.find(EpisodeLog.tag == tag).all()\n",
    "        if len(eps) > 0:\n",
    "            eps_by_tag[tag] = eps\n",
    "    eps_list = sum(eps_by_tag.values(), [])\n",
    "\n",
    "    # Only select episodes under target scenarios\n",
    "    eps_by_env = {}\n",
    "    for ep in eps_list:\n",
    "        if ep.environment in scenarios:\n",
    "            if ep.environment in eps_by_env:\n",
    "                eps_by_env[ep.environment].append(ep)\n",
    "            else:\n",
    "                eps_by_env[ep.environment] = [ep]\n",
    "    \n",
    "    return eps_by_env\n",
    "\n",
    "def get_reward_for_agent_model(\n",
    "    eps_by_env: dict,\n",
    "    agent_model: str,\n",
    "    reward_metric: str = 'goal'\n",
    ") -> dict:\n",
    "    reward_by_env = {}\n",
    "    for env, eps in eps_by_env.items():\n",
    "        score_list = []\n",
    "        for ep in eps:\n",
    "            rewards = ep.rewards\n",
    "            if rewards[0] != 0:\n",
    "                if ep.models[1] == agent_model:\n",
    "                    score = rewards[0][1][reward_metric]\n",
    "                    score_list.append(score)\n",
    "                if ep.models[2] == agent_model:\n",
    "                    score = rewards[1][1][reward_metric]\n",
    "                    score_list.append(score)\n",
    "            else:\n",
    "                score = 0\n",
    "                score_list.append(score)\n",
    "        reward_by_env[env] = score_list\n",
    "    \n",
    "    return reward_by_env\n",
    "\n",
    "\n",
    "def filter_episodes(\n",
    "    eps_by_env: dict,\n",
    "    reward_by_env_gpt: dict,\n",
    "    agent_model: str,\n",
    "    filter_threshold: float,\n",
    "    reward_metric: str = 'goal',\n",
    "    compare_gpt: bool = True\n",
    ") -> dict:\n",
    "    # function to AUTOMATICALLY filter using goal reward scores for each agent position given scenario\n",
    "    eps_by_env_filtered = {}\n",
    "    for env, eps in eps_by_env.items():\n",
    "        eps_by_env_filtered[env] = []\n",
    "        for ep in eps:\n",
    "            rewards = ep.rewards\n",
    "            gpt_avg = np.mean(reward_by_env_gpt[env])\n",
    "            if rewards[0] != 0:\n",
    "                if ep.models[1] == agent_model:\n",
    "                    score, pos = rewards[0][1][reward_metric], 1\n",
    "                    if compare_gpt:\n",
    "                        if score > min(filter_threshold, gpt_avg) and rewards[1][1][reward_metric] > min(filter_threshold, max(6, gpt_avg)):\n",
    "                            eps_by_env_filtered[env].append((ep, pos))\n",
    "                    else:\n",
    "                        # if score > filter_threshold and rewards[1][1][reward_metric] > filter_threshold:\n",
    "                        if score > filter_threshold:\n",
    "                            eps_by_env_filtered[env].append((ep, pos))\n",
    "                if ep.models[2] == agent_model:\n",
    "                    score, pos = rewards[1][1][reward_metric], 2\n",
    "                    if compare_gpt:\n",
    "                        if score > min(filter_threshold, gpt_avg) and rewards[0][1][reward_metric] > min(filter_threshold, max(6, gpt_avg)):\n",
    "                            eps_by_env_filtered[env].append((ep, pos))\n",
    "                    else:\n",
    "                        # if score > filter_threshold and rewards[0][1][reward_metric] > filter_threshold:\n",
    "                        if score > filter_threshold:\n",
    "                            eps_by_env_filtered[env].append((ep, pos))\n",
    "    \n",
    "\n",
    "    return eps_by_env_filtered\n",
    "\n",
    "\n",
    "def get_train_data_from_eps_list(\n",
    "    eps_list: list,\n",
    "    output_file: str\n",
    "):\n",
    "    conv_list = []\n",
    "    for ep in eps_list:\n",
    "        if ep[1] == 1: # target agent at position 1\n",
    "            conv = reverse_episode_log(ep[0], include_format=True, later_speak=False)\n",
    "        else: # target agent at position 2\n",
    "            conv = reverse_episode_log(ep[0], include_format=True, later_speak=True)\n",
    "        \n",
    "        for turn in conv:\n",
    "            conv_list.append({\n",
    "                \"instruction\": \"\",\n",
    "                \"input\": turn['prompt'],\n",
    "                \"output\": turn['result']\n",
    "            })\n",
    "    \n",
    "    random.shuffle(conv_list)\n",
    "    \n",
    "    with open(output_file, 'w') as f:\n",
    "        f.write(json.dumps(conv_list, indent=4))\n",
    "\n",
    "  \n",
    "def get_sorted_episode_list_for_target_agent(\n",
    "    tags: list, \n",
    "    scenarios: set,\n",
    "    agent_model: str,\n",
    "    reward_metric: str = \"overall_score\"\n",
    ") -> list:\n",
    "    \n",
    "    eps_by_env = get_episodes_by_env_dict(tags, scenarios)\n",
    "    eps_list = sum(eps_by_env.values(), [])\n",
    "    \n",
    "    # Split into two cases where the target agent converses with another agent or itself\n",
    "    single_agent_eps_list = []\n",
    "    dual_agent_1_eps_list = []\n",
    "    dual_agent_2_eps_list = []\n",
    "    for ep in eps_list:\n",
    "        if ep.models[1] == agent_model and ep.models[2] == agent_model:\n",
    "            dual_agent_1_eps_list.append((1, ep))\n",
    "            dual_agent_2_eps_list.append((2, ep))\n",
    "        elif ep.models[1] == agent_model or ep.models[2] == agent_model:\n",
    "            single_agent_eps_list.append((0, ep))\n",
    "\n",
    "    combined_eps_list = single_agent_eps_list + dual_agent_1_eps_list + dual_agent_2_eps_list\n",
    "\n",
    "    def reward_sort_fn(x):\n",
    "        if x[0] == 0:\n",
    "            return x[1].rewards[0][1][reward_metric] if x[1].models[1] == agent_model else x[1].rewards[1][1][reward_metric]\n",
    "        elif x[0] == 1:\n",
    "            return x[1].rewards[0][1][reward_metric]\n",
    "        else:\n",
    "            return x[1].rewards[1][1][reward_metric]\n",
    "        \n",
    "    sorted_combined_eps_list = sorted(combined_eps_list, key=reward_sort_fn, reverse=True)\n",
    "\n",
    "    return sorted_combined_eps_list\n",
    "\n",
    "\n",
    "def select_top_reward_eps(\n",
    "    sorted_eps_list: list,\n",
    "    ratio: float = 0.7\n",
    ") -> list:\n",
    "    return sorted_eps_list[:round(ratio * len(sorted_eps_list))]\n",
    "\n",
    "\n",
    "def filter_episodes_on_top_2_selfplay(\n",
    "    eps_by_env: dict\n",
    ") -> dict:\n",
    "    eps_by_env_filtered = {}\n",
    "    for env, eps in eps_by_env.items():\n",
    "        # first sort on goal score, second sort on overall score\n",
    "        eps_by_env_filtered[env] = []\n",
    "        ep_reward_list_1 = []\n",
    "        ep_reward_list_2 = []\n",
    "        for ep in eps:\n",
    "            if ep.rewards[0] != 0.0:\n",
    "                    ep_reward_list_1.append((ep.rewards[0][1][\"goal\"], ep.rewards[0][1][\"overall_score\"], ep))\n",
    "            if ep.rewards[1] != 0.0:\n",
    "                    ep_reward_list_2.append((ep.rewards[1][1][\"goal\"], ep.rewards[1][1][\"overall_score\"], ep))\n",
    "        \n",
    "        best_1 = sorted(ep_reward_list_1, key=lambda x: (x[0], x[1]), reverse=True)[0]\n",
    "        best_2 = sorted(ep_reward_list_2, key=lambda x: (x[0], x[1]), reverse=True)[0]\n",
    "        eps_by_env_filtered[env].append((best_1[2], 1))\n",
    "        eps_by_env_filtered[env].append((best_2[2], 2))\n",
    "\n",
    "    return eps_by_env_filtered"
   ]
  },
  {
   "cell_type": "markdown",
   "metadata": {},
   "source": [
    "## Behavior Cloning Data Filtering (GPT-4 vs. GPT-4)"
   ]
  },
  {
   "cell_type": "markdown",
   "metadata": {},
   "source": [
    "### Get conversation episodes according to social task scenarios"
   ]
  },
  {
   "cell_type": "code",
   "execution_count": 15,
   "metadata": {},
   "outputs": [],
   "source": [
    "eps_list = []\n",
    "# TODO: Fill in the tag. The tag should be the --TAG you used in `../data_generate/scripts/sotopia_conf/generation_utils_conf/generate_xxx.gin`\n",
    "TAGS = [\"sft_round_1_gpt-4_gpt-4_clean\"]\n",
    "with open(\"../../data_generate/env_files/used_env.json\", 'r') as f:\n",
    "    # TODO: Fill in the experiment name. The name should be the key value of social tasks in `../data_generate/env_files/used_env.json`\n",
    "    SCENARIOS = json.loads(f.read())[\"SFT-round-1\"]\n",
    "# TODO: Fill in the target model and gpt model (optional)\n",
    "TARGET_MODEL = \"gpt-4\"\n",
    "GPT_MODEL = \"gpt-4\"\n",
    "\n",
    "eps_by_env = get_episodes_by_env_dict(tags=TAGS, scenarios=set(SCENARIOS))\n",
    "reward_by_env_target = get_reward_for_agent_model(eps_by_env=eps_by_env, agent_model=TARGET_MODEL)\n",
    "reward_by_env_gpt = get_reward_for_agent_model(eps_by_env=eps_by_env, agent_model=GPT_MODEL)"
   ]
  },
  {
   "cell_type": "markdown",
   "metadata": {},
   "source": [
    "### Filtering the conversation episodes\n",
    "We select the top 2 conversations with the highest goal achieving score per social task."
   ]
  },
  {
   "cell_type": "code",
   "execution_count": 16,
   "metadata": {},
   "outputs": [
    {
     "name": "stdout",
     "output_type": "stream",
     "text": [
      "200\n"
     ]
    }
   ],
   "source": [
    "eps_by_env_filtered = filter_episodes_on_top_2_selfplay(eps_by_env)\n",
    "total_num = 0\n",
    "for env in eps_by_env_filtered:\n",
    "    total_num += len(eps_by_env_filtered[env])\n",
    "    eps_list += eps_by_env_filtered[env]\n",
    "\n",
    "print(total_num)"
   ]
  },
  {
   "cell_type": "markdown",
   "metadata": {},
   "source": [
    "We plot the goal achieving score distribution among all social tasks."
   ]
  },
  {
   "cell_type": "code",
   "execution_count": 17,
   "metadata": {},
   "outputs": [
    {
     "name": "stdout",
     "output_type": "stream",
     "text": [
      "9.373333333333333 10.0 1.4022888888888891\n",
      "9.373333333333333 10.0 1.4022888888888891\n"
     ]
    },
    {
     "data": {
      "text/plain": [
       "Text(0.5, 1.0, 'gpt-4')"
      ]
     },
     "execution_count": 17,
     "metadata": {},
     "output_type": "execute_result"
    },
    {
     "data": {
      "image/png": "[encoded data removed]",
      "text/plain": [
       "<Figure size 2500x1000 with 2 Axes>"
      ]
     },
     "metadata": {},
     "output_type": "display_data"
    }
   ],
   "source": [
    "scores_1 = sum(reward_by_env_target.values(), [])\n",
    "scores_2 = sum(reward_by_env_gpt.values(), [])\n",
    "print(np.mean(scores_1), np.median(scores_1), np.var(scores_1))\n",
    "print(np.mean(scores_2), np.median(scores_2), np.var(scores_2))\n",
    "fig, axs = plt.subplots(1, 2, figsize=(25, 10))\n",
    "axs[0].hist(scores_1, color='skyblue', bins=11, label='hst')\n",
    "axs[0].set_title(TARGET_MODEL)\n",
    "axs[1].hist(scores_2, color='navy', bins=11, label='hst')\n",
    "axs[1].set_title(GPT_MODEL)"
   ]
  },
  {
   "cell_type": "markdown",
   "metadata": {},
   "source": [
    "### Generate training data based on filtered conversations"
   ]
  },
  {
   "cell_type": "code",
   "execution_count": 16,
   "metadata": {},
   "outputs": [],
   "source": [
    "get_train_data_from_eps_list(eps_list=eps_list, output_file=\"sft_round_1_bc_data_top_2.json\")"
   ]
  },
  {
   "cell_type": "markdown",
   "metadata": {},
   "source": [
    "We might want to filter unsuccessful or skipped responses to reduce overfitting of the model. "
   ]
  },
  {
   "cell_type": "code",
   "execution_count": 17,
   "metadata": {},
   "outputs": [],
   "source": [
    "with open(\"selftrain_sft_round_1_data_top_2.json\", 'r') as f:\n",
    "    line = json.loads(f.read())\n",
    "    item_list = []\n",
    "    for item in line:\n",
    "        if item[\"output\"] == \"{\\\"action_type\\\": \\\"none\\\", \\\"argument\\\": \\\"\\\"}\":\n",
    "            continue\n",
    "        item_list.append(item)\n",
    "\n",
    "with open(\"selftrain_sft_round_1_data_top_2_filtered.json\", 'w') as f:\n",
    "    f.write(json.dumps(item_list, indent=4))\n"
   ]
  },
  {
   "cell_type": "markdown",
   "metadata": {},
   "source": [
    "## Behavior Cloning Data Filtering (Mistral vs. Mistral)"
   ]
  },
  {
   "cell_type": "markdown",
   "metadata": {},
   "source": [
    "### Get conversation episodes according to social task scenarios"
   ]
  },
  {
   "cell_type": "code",
   "execution_count": 28,
   "metadata": {},
   "outputs": [
    {
     "ename": "KeyError",
     "evalue": "'selftrain-round-1'",
     "output_type": "error",
     "traceback": [
      "\u001b[0;31m---------------------------------------------------------------------------\u001b[0m",
      "\u001b[0;31mKeyError\u001b[0m                                  Traceback (most recent call last)",
      "Cell \u001b[0;32mIn[28], line 6\u001b[0m\n\u001b[1;32m      3\u001b[0m TAGS \u001b[38;5;241m=\u001b[39m [\u001b[38;5;124m\"\u001b[39m\u001b[38;5;124msft-selftrain-round-1_mistral_mistral_clean\u001b[39m\u001b[38;5;124m\"\u001b[39m]\n\u001b[1;32m      4\u001b[0m \u001b[38;5;28;01mwith\u001b[39;00m \u001b[38;5;28mopen\u001b[39m(\u001b[38;5;124m\"\u001b[39m\u001b[38;5;124m../../data_generate/env_files/used_env.json\u001b[39m\u001b[38;5;124m\"\u001b[39m, \u001b[38;5;124m'\u001b[39m\u001b[38;5;124mr\u001b[39m\u001b[38;5;124m'\u001b[39m) \u001b[38;5;28;01mas\u001b[39;00m f:\n\u001b[1;32m      5\u001b[0m     \u001b[38;5;66;03m# TODO: Fill in the experiment name. The name should be the key value of social tasks in `../data_generate/env_files/used_env.json`\u001b[39;00m\n\u001b[0;32m----> 6\u001b[0m     SCENARIOS \u001b[38;5;241m=\u001b[39m \u001b[43mjson\u001b[49m\u001b[38;5;241;43m.\u001b[39;49m\u001b[43mloads\u001b[49m\u001b[43m(\u001b[49m\u001b[43mf\u001b[49m\u001b[38;5;241;43m.\u001b[39;49m\u001b[43mread\u001b[49m\u001b[43m(\u001b[49m\u001b[43m)\u001b[49m\u001b[43m)\u001b[49m\u001b[43m[\u001b[49m\u001b[38;5;124;43m\"\u001b[39;49m\u001b[38;5;124;43mselftrain-round-1\u001b[39;49m\u001b[38;5;124;43m\"\u001b[39;49m\u001b[43m]\u001b[49m\n\u001b[1;32m      7\u001b[0m \u001b[38;5;66;03m# TODO: Fill in the target model and gpt model (optional)\u001b[39;00m\n\u001b[1;32m      8\u001b[0m TARGET_MODEL \u001b[38;5;241m=\u001b[39m \u001b[38;5;124m\"\u001b[39m\u001b[38;5;124mcustom_model\u001b[39m\u001b[38;5;124m\"\u001b[39m\n",
      "\u001b[0;31mKeyError\u001b[0m: 'selftrain-round-1'"
     ]
    }
   ],
   "source": [
    "eps_list = []\n",
    "# TODO: Fill in the tag. The tag should be the --TAG you used in `../data_generate/scripts/sotopia_conf/generation_utils_conf/generate_xxx.gin`\n",
    "TAGS = [\"sft-round-2-selftrain-round-1_checkpoint_improve-0_epoch-20_gpt-3.5-turbo_test\"]\n",
    "with open(\"../../data_generate/env_files/used_env.json\", 'r') as f:\n",
    "    # TODO: Fill in the experiment name. The name should be the key value of social tasks in `../data_generate/env_files/used_env.json`\n",
    "    SCENARIOS = json.loads(f.read())[\"selftrain-round-2\"]\n",
    "# TODO: Fill in the target model and gpt model (optional)\n",
    "TARGET_MODEL = \"custom_model\"\n",
    "GPT_MODEL = \"gpt-4\"\n",
    "\n",
    "eps_by_env = get_episodes_by_env_dict(tags=TAGS, scenarios=set(SCENARIOS))\n",
    "reward_by_env_target = get_reward_for_agent_model(eps_by_env=eps_by_env, agent_model=TARGET_MODEL)\n",
    "reward_by_env_gpt = get_reward_for_agent_model(eps_by_env=eps_by_env, agent_model=GPT_MODEL)"
   ]
  },
  {
   "cell_type": "code",
   "execution_count": 27,
   "metadata": {},
   "outputs": [
    {
     "name": "stdout",
     "output_type": "stream",
     "text": [
      "0\n"
     ]
    }
   ],
   "source": [
    "eps_by_env_filtered = filter_episodes_on_top_2_selfplay(eps_by_env)\n",
    "total_num = 0\n",
    "for env in eps_by_env_filtered:\n",
    "    total_num += len(eps_by_env_filtered[env])\n",
    "    eps_list += eps_by_env_filtered[env]\n",
    "\n",
    "print(total_num)"
   ]
  },
  {
   "cell_type": "code",
   "execution_count": null,
   "metadata": {},
   "outputs": [],
   "source": []
  }
 ],
 "metadata": {
  "kernelspec": {
   "display_name": "capstone",
   "language": "python",
   "name": "python3"
  },
  "language_info": {
   "codemirror_mode": {
    "name": "ipython",
    "version": 3
   },
   "file_extension": ".py",
   "mimetype": "text/x-python",
   "name": "python",
   "nbconvert_exporter": "python",
   "pygments_lexer": "ipython3",
   "version": "3.11.1"
  }
 },
 "nbformat": 4,
 "nbformat_minor": 2
}
