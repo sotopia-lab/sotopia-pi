{
 "cells": [
  {
   "cell_type": "code",
   "execution_count": null,
   "metadata": {},
   "outputs": [],
   "source": [
    "import sys\n",
    "import os\n",
    "os.environ[\n",
    "    \"REDIS_OM_URL\"\n",
    "] = \"redis://:AtSeeDFtZvFkYFwSPbZVDMx3@panther.lti.cs.cmu.edu:6379\"\n",
    "\n",
    "import json\n",
    "from tqdm.notebook import tqdm\n",
    "import rich\n",
    "import logging\n",
    "from collections import defaultdict, Counter\n",
    "from sotopia.database.persistent_profile import AgentProfile, EnvironmentProfile, RelationshipProfile\n",
    "from sotopia.database.logs import EpisodeLog\n",
    "from sotopia.database.env_agent_combo_storage import EnvAgentComboStorage\n",
    "from collections import Counter \n",
    "from redis_om import Migrator\n",
    "from rich.console import Console\n",
    "from rich.terminal_theme import MONOKAI \n",
    "from redis_filtering import get_clean_episodes, align_episode_by_env, goal_filter_all_env_agent, run_filtered_episodes_to_prompt, goal_reward_by_env_agent\n",
    "import matplotlib.pyplot as plt\n",
    "import numpy as np\n"
   ]
  }
 ],
 "metadata": {
  "language_info": {
   "name": "python"
  }
 },
 "nbformat": 4,
 "nbformat_minor": 2
}
